{
 "cells": [
  {
   "cell_type": "markdown",
   "metadata": {},
   "source": [
    "# 03. Protein Preprocessing and Representation\n",
    "\n",
    "This notebook processes protein sequences into numerical representations for the GNN model."
   ]
  },
  {
   "cell_type": "markdown",
   "metadata": {},
   "source": [
    "## 1. Setup and Imports"
   ]
  },
  {
   "cell_type": "code",
   "execution_count": 1,
   "metadata": {},
   "outputs": [],
   "source": [
    "import numpy as np\n",
    "import pandas as pd\n",
    "import pickle\n",
    "import json\n",
    "from pathlib import Path\n",
    "from tqdm import tqdm\n",
    "import matplotlib.pyplot as plt\n",
    "import seaborn as sns\n",
    "from collections import Counter\n",
    "import torch\n",
    "import torch.nn as nn\n",
    "from sklearn.preprocessing import StandardScaler\n",
    "from sklearn.decomposition import PCA\n",
    "\n",
    "# Set paths\n",
    "DATA_DIR = Path('../data')\n",
    "RAW_DATA = DATA_DIR / 'raw'\n",
    "PROCESSED_DATA = DATA_DIR / 'processed'\n",
    "\n",
    "# Create directories\n",
    "PROCESSED_DATA.mkdir(exist_ok=True)\n",
    "(PROCESSED_DATA / 'protein_features').mkdir(exist_ok=True)"
   ]
  },
  {
   "cell_type": "markdown",
   "metadata": {},
   "source": [
    "## 2. Define Protein Representation Methods"
   ]
  },
  {
   "cell_type": "code",
   "execution_count": 2,
   "metadata": {},
   "outputs": [],
   "source": [
    "# Amino acid properties for feature encoding\n",
    "AMINO_ACIDS = list('ACDEFGHIKLMNPQRSTVWY')\n",
    "AMINO_ACID_PROPS = {\n",
    "    # Hydrophobicity index (Kyte-Doolittle scale)\n",
    "    'hydrophobicity': {\n",
    "        'A': 1.8, 'C': 2.5, 'D': -3.5, 'E': -3.5, 'F': 2.8,\n",
    "        'G': -0.4, 'H': -3.2, 'I': 4.5, 'K': -3.9, 'L': 3.8,\n",
    "        'M': 1.9, 'N': -3.5, 'P': -1.6, 'Q': -3.5, 'R': -4.5,\n",
    "        'S': -0.8, 'T': -0.7, 'V': 4.2, 'W': -0.9, 'Y': -1.3\n",
    "    },\n",
    "    # Polarity\n",
    "    'polarity': {\n",
    "        'A': 0, 'C': 0, 'D': 1, 'E': 1, 'F': 0,\n",
    "        'G': 0, 'H': 1, 'I': 0, 'K': 1, 'L': 0,\n",
    "        'M': 0, 'N': 1, 'P': 0, 'Q': 1, 'R': 1,\n",
    "        'S': 1, 'T': 1, 'V': 0, 'W': 0, 'Y': 1\n",
    "    },\n",
    "    # Molecular weight\n",
    "    'molecular_weight': {\n",
    "        'A': 89.1, 'C': 121.2, 'D': 133.1, 'E': 147.1, 'F': 165.2,\n",
    "        'G': 75.1, 'H': 155.2, 'I': 131.2, 'K': 146.2, 'L': 131.2,\n",
    "        'M': 149.2, 'N': 132.1, 'P': 115.1, 'Q': 146.2, 'R': 174.2,\n",
    "        'S': 105.1, 'T': 119.1, 'V': 117.1, 'W': 204.2, 'Y': 181.2\n",
    "    },\n",
    "    # pKa (side chain)\n",
    "    'pka': {\n",
    "        'A': 0, 'C': 8.3, 'D': 3.9, 'E': 4.2, 'F': 0,\n",
    "        'G': 0, 'H': 6.0, 'I': 0, 'K': 10.5, 'L': 0,\n",
    "        'M': 0, 'N': 0, 'P': 0, 'Q': 0, 'R': 12.5,\n",
    "        'S': 0, 'T': 0, 'V': 0, 'W': 0, 'Y': 10.1\n",
    "    }\n",
    "}"
   ]
  },
  {
   "cell_type": "code",
   "execution_count": 3,
   "metadata": {},
   "outputs": [],
   "source": [
    "class ProteinEncoder:\n",
    "    \"\"\"Encode protein sequences using various methods\"\"\"\n",
    "    \n",
    "    def __init__(self):\n",
    "        self.amino_acids = AMINO_ACIDS\n",
    "        self.aa_to_idx = {aa: i for i, aa in enumerate(self.amino_acids)}\n",
    "        self.properties = AMINO_ACID_PROPS\n",
    "    \n",
    "    def one_hot_encode(self, sequence, max_len=None):\n",
    "        \"\"\"One-hot encode protein sequence\"\"\"\n",
    "        if max_len is None:\n",
    "            max_len = len(sequence)\n",
    "        \n",
    "        encoding = np.zeros((max_len, 20))\n",
    "        for i, aa in enumerate(sequence[:max_len]):\n",
    "            if aa in self.aa_to_idx:\n",
    "                encoding[i, self.aa_to_idx[aa]] = 1\n",
    "        return encoding\n",
    "    \n",
    "    def property_encode(self, sequence):\n",
    "        \"\"\"Encode using physicochemical properties\"\"\"\n",
    "        features = []\n",
    "        for aa in sequence:\n",
    "            if aa in self.amino_acids:\n",
    "                feat = [\n",
    "                    self.properties['hydrophobicity'][aa] / 4.5,  # Normalize\n",
    "                    self.properties['polarity'][aa],\n",
    "                    self.properties['molecular_weight'][aa] / 204.2,  # Normalize by max\n",
    "                    self.properties['pka'][aa] / 12.5  # Normalize by max\n",
    "                ]\n",
    "                features.append(feat)\n",
    "            else:\n",
    "                features.append([0, 0, 0, 0])  # Unknown amino acid\n",
    "        return np.array(features)\n",
    "    \n",
    "    def kmer_composition(self, sequence, k=3):\n",
    "        \"\"\"Calculate k-mer composition features\"\"\"\n",
    "        kmers = {}\n",
    "        for i in range(len(sequence) - k + 1):\n",
    "            kmer = sequence[i:i+k]\n",
    "            kmers[kmer] = kmers.get(kmer, 0) + 1\n",
    "        \n",
    "        # Normalize by sequence length\n",
    "        total = sum(kmers.values())\n",
    "        if total > 0:\n",
    "            for key in kmers:\n",
    "                kmers[key] = kmers[key] / total\n",
    "        \n",
    "        return kmers\n",
    "    \n",
    "    def global_descriptors(self, sequence):\n",
    "        \"\"\"Calculate global sequence descriptors\"\"\"\n",
    "        if not sequence:\n",
    "            return np.zeros(10)\n",
    "        \n",
    "        # Amino acid composition\n",
    "        aa_comp = Counter(sequence)\n",
    "        seq_len = len(sequence)\n",
    "        \n",
    "        # Calculate various descriptors\n",
    "        descriptors = [\n",
    "            seq_len,  # Length\n",
    "            sum(self.properties['molecular_weight'].get(aa, 0) for aa in sequence),  # Total MW\n",
    "            sum(self.properties['hydrophobicity'].get(aa, 0) for aa in sequence) / seq_len,  # Avg hydrophobicity\n",
    "            sum(self.properties['polarity'].get(aa, 1) for aa in sequence) / seq_len,  # Polarity ratio\n",
    "            aa_comp.get('C', 0) / seq_len,  # Cysteine ratio (disulfide bonds)\n",
    "            (aa_comp.get('K', 0) + aa_comp.get('R', 0)) / seq_len,  # Basic residue ratio\n",
    "            (aa_comp.get('D', 0) + aa_comp.get('E', 0)) / seq_len,  # Acidic residue ratio\n",
    "            sum(1 for aa in sequence if aa in 'GAVLIPFMW') / seq_len,  # Hydrophobic ratio\n",
    "            sum(1 for aa in sequence if aa in 'STNQY') / seq_len,  # Polar ratio\n",
    "            sum(1 for aa in sequence if aa in 'FWY') / seq_len,  # Aromatic ratio\n",
    "        ]\n",
    "        \n",
    "        return np.array(descriptors)\n",
    "\n",
    "encoder = ProteinEncoder()"
   ]
  },
  {
   "cell_type": "markdown",
   "metadata": {},
   "source": [
    "## 3. Load Protein Sequences"
   ]
  },
  {
   "cell_type": "code",
   "execution_count": 4,
   "metadata": {},
   "outputs": [
    {
     "name": "stdout",
     "output_type": "stream",
     "text": [
      "Loaded 442 DAVIS proteins\n",
      "Loaded 229 KIBA proteins\n",
      "Total unique proteins: 671\n"
     ]
    }
   ],
   "source": [
    "def load_protein_sequences():\n",
    "    \"\"\"Load protein sequences from datasets\"\"\"\n",
    "    proteins = {}\n",
    "    \n",
    "    # Load DAVIS proteins\n",
    "    davis_dir = RAW_DATA / 'davis'\n",
    "    with open(davis_dir / 'proteins.txt', 'r') as f:\n",
    "        davis_proteins = json.load(f)\n",
    "    \n",
    "    for key, seq in davis_proteins.items():\n",
    "        proteins[f'davis_{key}'] = seq\n",
    "    \n",
    "    # Load KIBA proteins\n",
    "    kiba_dir = RAW_DATA / 'kiba'\n",
    "    with open(kiba_dir / 'proteins.txt', 'r') as f:\n",
    "        kiba_proteins = json.load(f)\n",
    "    \n",
    "    for key, seq in kiba_proteins.items():\n",
    "        proteins[f'kiba_{key}'] = seq\n",
    "    \n",
    "    print(f\"Loaded {len(davis_proteins)} DAVIS proteins\")\n",
    "    print(f\"Loaded {len(kiba_proteins)} KIBA proteins\")\n",
    "    print(f\"Total unique proteins: {len(proteins)}\")\n",
    "    \n",
    "    return proteins, davis_proteins, kiba_proteins\n",
    "\n",
    "all_proteins, davis_proteins, kiba_proteins = load_protein_sequences()"
   ]
  },
  {
   "cell_type": "markdown",
   "metadata": {},
   "source": [
    "## 4. Analyze Protein Sequences"
   ]
  },
  {
   "cell_type": "code",
   "execution_count": 5,
   "metadata": {},
   "outputs": [
    {
     "name": "stderr",
     "output_type": "stream",
     "text": [
      "/tmp/ipykernel_49349/2562518923.py:15: MatplotlibDeprecationWarning: The 'labels' parameter of boxplot() has been renamed 'tick_labels' since Matplotlib 3.9; support for the old name will be dropped in 3.11.\n",
      "  axes[1].boxplot([davis_lengths, kiba_lengths], labels=['DAVIS', 'KIBA'])\n"
     ]
    },
    {
     "data": {
      "image/png": "[encoded data removed]",
      "text/plain": [
       "<Figure size 1200x400 with 2 Axes>"
      ]
     },
     "metadata": {},
     "output_type": "display_data"
    },
    {
     "name": "stdout",
     "output_type": "stream",
     "text": [
      "DAVIS - Min: 244, Max: 2549, Mean: 788.9\n",
      "KIBA - Min: 215, Max: 4128, Mean: 729.0\n"
     ]
    }
   ],
   "source": [
    "# Analyze sequence lengths\n",
    "davis_lengths = [len(seq) for seq in davis_proteins.values()]\n",
    "kiba_lengths = [len(seq) for seq in kiba_proteins.values()]\n",
    "\n",
    "fig, axes = plt.subplots(1, 2, figsize=(12, 4))\n",
    "\n",
    "axes[0].hist(davis_lengths, bins=30, alpha=0.7, color='blue', label='DAVIS')\n",
    "axes[0].hist(kiba_lengths, bins=30, alpha=0.7, color='orange', label='KIBA')\n",
    "axes[0].set_xlabel('Sequence Length')\n",
    "axes[0].set_ylabel('Count')\n",
    "axes[0].set_title('Protein Sequence Length Distribution')\n",
    "axes[0].legend()\n",
    "\n",
    "# Box plot comparison\n",
    "axes[1].boxplot([davis_lengths, kiba_lengths], labels=['DAVIS', 'KIBA'])\n",
    "axes[1].set_ylabel('Sequence Length')\n",
    "axes[1].set_title('Sequence Length Comparison')\n",
    "\n",
    "plt.tight_layout()\n",
    "plt.show()\n",
    "\n",
    "print(f\"DAVIS - Min: {min(davis_lengths)}, Max: {max(davis_lengths)}, Mean: {np.mean(davis_lengths):.1f}\")\n",
    "print(f\"KIBA - Min: {min(kiba_lengths)}, Max: {max(kiba_lengths)}, Mean: {np.mean(kiba_lengths):.1f}\")"
   ]
  },
  {
   "cell_type": "markdown",
   "metadata": {},
   "source": [
    "## 5. Generate Protein Features"
   ]
  },
  {
   "cell_type": "code",
   "execution_count": null,
   "metadata": {},
   "outputs": [],
   "source": [
    "def process_protein_features(proteins, encoder, max_seq_len=1200):\n",
    "    \"\"\"Generate multiple feature representations for proteins\"\"\"\n",
    "    features = {}\n",
    "    \n",
    "    for protein_id, sequence in tqdm(proteins.items(), desc=\"Processing proteins\"):\n",
    "        # Truncate very long sequences\n",
    "        if len(sequence) > max_seq_len:\n",
    "            sequence = sequence[:max_seq_len]\n",
    "        \n",
    "        features[protein_id] = {\n",
    "            'sequence': sequence,\n",
    "            'length': len(sequence),\n",
    "            'one_hot': encoder.one_hot_encode(sequence, max_seq_len),\n",
    "            'properties': encoder.property_encode(sequence),\n",
    "            'global_desc': encoder.global_descriptors(sequence),\n",
    "            'kmer_3': encoder.kmer_composition(sequence, k=3),\n",
    "            'kmer_4': encoder.kmer_composition(sequence, k=4)\n",
    "        }\n",
    "    \n",
    "    return features\n",
    "\n",
    "# Process DAVIS proteins\n",
    "print(\"Processing DAVIS proteins...\")\n",
    "davis_features = process_protein_features(\n",
    "    {k: v for k, v in davis_proteins.items()}, \n",
    "    encoder\n",
    ")\n",
    "\n",
    "# Process KIBA proteins\n",
    "print(\"Processing KIBA proteins...\")\n",
    "kiba_features = process_protein_features(\n",
    "    {k: v for k, v in kiba_proteins.items()}, \n",
    "    encoder\n",
    ")"
   ]
  },
  {
   "cell_type": "markdown",
   "metadata": {},
   "source": [
    "## 6. CNN-based Protein Embedding"
   ]
  },
  {
   "cell_type": "code",
   "execution_count": null,
   "metadata": {},
   "outputs": [],
   "source": [
    "class ProteinCNN(nn.Module):\n",
    "    \"\"\"1D CNN for protein sequence embedding\"\"\"\n",
    "    def __init__(self, vocab_size=20, embedding_dim=128, num_filters=64, filter_sizes=[3, 5, 7]):\n",
    "        super(ProteinCNN, self).__init__()\n",
    "        self.embedding = nn.Embedding(vocab_size + 1, embedding_dim)  # +1 for padding\n",
    "        \n",
    "        self.convs = nn.ModuleList([\n",
    "            nn.Conv1d(embedding_dim, num_filters, kernel_size=fs)\n",
    "            for fs in filter_sizes\n",
    "        ])\n",
    "        \n",
    "        self.dropout = nn.Dropout(0.5)\n",
    "        self.fc = nn.Linear(len(filter_sizes) * num_filters, 256)\n",
    "    \n",
    "    def forward(self, x):\n",
    "        # x shape: (batch_size, seq_len)\n",
    "        x = self.embedding(x)  # (batch_size, seq_len, embedding_dim)\n",
    "        x = x.transpose(1, 2)  # (batch_size, embedding_dim, seq_len)\n",
    "        \n",
    "        # Apply convolutions\n",
    "        conv_outputs = []\n",
    "        for conv in self.convs:\n",
    "            conv_out = torch.relu(conv(x))  # (batch_size, num_filters, new_seq_len)\n",
    "            pooled = torch.max(conv_out, dim=2)[0]  # Global max pooling\n",
    "            conv_outputs.append(pooled)\n",
    "        \n",
    "        # Concatenate all conv outputs\n",
    "        x = torch.cat(conv_outputs, dim=1)\n",
    "        x = self.dropout(x)\n",
    "        x = self.fc(x)\n",
    "        \n",
    "        return x\n",
    "\n",
    "# Initialize protein CNN model\n",
    "protein_cnn = ProteinCNN()\n",
    "print(f\"Protein CNN model parameters: {sum(p.numel() for p in protein_cnn.parameters()):,}\")"
   ]
  },
  {
   "cell_type": "markdown",
   "metadata": {},
   "source": [
    "## 7. Create Fixed-Length Protein Representations"
   ]
  },
  {
   "cell_type": "code",
   "execution_count": null,
   "metadata": {},
   "outputs": [],
   "source": [
    "def create_fixed_representations(features_dict, max_len=1200):\n",
    "    \"\"\"Create fixed-length representations for all proteins\"\"\"\n",
    "    fixed_features = {}\n",
    "    \n",
    "    for protein_id, features in features_dict.items():\n",
    "        # Use global descriptors as the fixed representation\n",
    "        # You can also use CNN embeddings or other methods\n",
    "        fixed_features[protein_id] = features['global_desc']\n",
    "    \n",
    "    return fixed_features\n",
    "\n",
    "# Create fixed representations\n",
    "davis_fixed = create_fixed_representations(davis_features)\n",
    "kiba_fixed = create_fixed_representations(kiba_features)\n",
    "\n",
    "print(f\"DAVIS fixed features shape: {next(iter(davis_fixed.values())).shape}\")\n",
    "print(f\"KIBA fixed features shape: {next(iter(kiba_fixed.values())).shape}\")"
   ]
  },
  {
   "cell_type": "markdown",
   "metadata": {},
   "source": [
    "## 8. Visualize Protein Feature Space"
   ]
  },
  {
   "cell_type": "code",
   "execution_count": null,
   "metadata": {},
   "outputs": [],
   "source": [
    "# Combine all protein features\n",
    "all_fixed_features = []\n",
    "all_labels = []\n",
    "\n",
    "for protein_id, features in davis_fixed.items():\n",
    "    all_fixed_features.append(features)\n",
    "    all_labels.append('DAVIS')\n",
    "\n",
    "for protein_id, features in kiba_fixed.items():\n",
    "    all_fixed_features.append(features)\n",
    "    all_labels.append('KIBA')\n",
    "\n",
    "all_fixed_features = np.array(all_fixed_features)\n",
    "\n",
    "# PCA visualization\n",
    "pca = PCA(n_components=2)\n",
    "pca_features = pca.fit_transform(all_fixed_features)\n",
    "\n",
    "# Plot\n",
    "fig, ax = plt.subplots(1, 1, figsize=(10, 8))\n",
    "\n",
    "for label in ['DAVIS', 'KIBA']:\n",
    "    mask = np.array(all_labels) == label\n",
    "    ax.scatter(pca_features[mask, 0], pca_features[mask, 1], \n",
    "              label=label, alpha=0.6, s=30)\n",
    "\n",
    "ax.set_xlabel(f'PC1 ({pca.explained_variance_ratio_[0]:.2%} variance)')\n",
    "ax.set_ylabel(f'PC2 ({pca.explained_variance_ratio_[1]:.2%} variance)')\n",
    "ax.set_title('Protein Feature Space (PCA)')\n",
    "ax.legend()\n",
    "ax.grid(True, alpha=0.3)\n",
    "\n",
    "plt.tight_layout()\n",
    "plt.show()\n",
    "\n",
    "print(f\"Total variance explained: {pca.explained_variance_ratio_.sum():.2%}\")"
   ]
  },
  {
   "cell_type": "markdown",
   "metadata": {},
   "source": [
    "## 9. Save Processed Protein Features"
   ]
  },
  {
   "cell_type": "code",
   "execution_count": null,
   "metadata": {},
   "outputs": [],
   "source": [
    "# Save protein features\n",
    "protein_features_dir = PROCESSED_DATA / 'protein_features'\n",
    "\n",
    "# Save DAVIS features\n",
    "with open(protein_features_dir / 'davis_protein_features.pkl', 'wb') as f:\n",
    "    pickle.dump(davis_features, f)\n",
    "\n",
    "with open(protein_features_dir / 'davis_protein_fixed.pkl', 'wb') as f:\n",
    "    pickle.dump(davis_fixed, f)\n",
    "\n",
    "# Save KIBA features\n",
    "with open(protein_features_dir / 'kiba_protein_features.pkl', 'wb') as f:\n",
    "    pickle.dump(kiba_features, f)\n",
    "\n",
    "with open(protein_features_dir / 'kiba_protein_fixed.pkl', 'wb') as f:\n",
    "    pickle.dump(kiba_fixed, f)\n",
    "\n",
    "# Save encoder for later use\n",
    "with open(protein_features_dir / 'protein_encoder.pkl', 'wb') as f:\n",
    "    pickle.dump(encoder, f)\n",
    "\n",
    "print(\"✓ Protein features saved successfully\")\n",
    "print(f\"  - DAVIS features: {len(davis_features)} proteins\")\n",
    "print(f\"  - KIBA features: {len(kiba_features)} proteins\")\n",
    "print(f\"  - Feature dimension: {next(iter(davis_fixed.values())).shape[0]}\")"
   ]
  },
  {
   "cell_type": "markdown",
   "metadata": {},
   "source": [
    "## 10. Summary"
   ]
  },
  {
   "cell_type": "code",
   "execution_count": null,
   "metadata": {},
   "outputs": [],
   "source": [
    "print(\"\\n\" + \"=\"*50)\n",
    "print(\"PROTEIN PREPROCESSING COMPLETE\")\n",
    "print(\"=\"*50)\n",
    "print(f\"\\nProcessed proteins:\")\n",
    "print(f\"  - DAVIS: {len(davis_features)} proteins\")\n",
    "print(f\"  - KIBA: {len(kiba_features)} proteins\")\n",
    "print(f\"\\nFeature representations created:\")\n",
    "print(f\"  - One-hot encoding (1200 × 20)\")\n",
    "print(f\"  - Property encoding (seq_len × 4)\")\n",
    "print(f\"  - Global descriptors (10 features)\")\n",
    "print(f\"  - K-mer composition (3-mer and 4-mer)\")\n",
    "print(f\"\\nFiles saved:\")\n",
    "print(f\"  - data/processed/protein_features/davis_protein_features.pkl\")\n",
    "print(f\"  - data/processed/protein_features/kiba_protein_features.pkl\")\n",
    "print(f\"\\nNext step: Train DTI model in notebook 04\")"
   ]
  }
 ],
 "metadata": {
  "kernelspec": {
   "display_name": "dti-gnn",
   "language": "python",
   "name": "python3"
  },
  "language_info": {
   "codemirror_mode": {
    "name": "ipython",
    "version": 3
   },
   "file_extension": ".py",
   "mimetype": "text/x-python",
   "name": "python",
   "nbconvert_exporter": "python",
   "pygments_lexer": "ipython3",
   "version": "3.10.18"
  }
 },
 "nbformat": 4,
 "nbformat_minor": 4
}
